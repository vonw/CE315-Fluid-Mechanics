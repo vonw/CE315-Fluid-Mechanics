{
 "metadata": {
  "name": "PAERI plots at Summit"
 },
 "nbformat": 3,
 "nbformat_minor": 0,
 "worksheets": [
  {
   "cells": [
    {
     "cell_type": "markdown",
     "metadata": {},
     "source": [
      "# 1) Most Recent PAERI plots"
     ]
    },
    {
     "cell_type": "markdown",
     "metadata": {},
     "source": [
      "### Synchronizes the status plots between nansen.cos.uidaho.edu and local computer."
     ]
    },
    {
     "cell_type": "code",
     "collapsed": false,
     "input": [
      "!rm -f /Users/vonw/Sites/summit/hourly/*.png\n",
      "!rsync --progress -avz -e \"ssh\" vonw@nansen.cos.uidaho.edu:/home/vonw/Sites/summit/hourly/*.png /Users/vonw/Sites/summit/hourly/"
     ],
     "language": "python",
     "metadata": {},
     "outputs": []
    },
    {
     "cell_type": "markdown",
     "metadata": {},
     "source": [
      "### Gets current date."
     ]
    },
    {
     "cell_type": "code",
     "collapsed": false,
     "input": [
      "from IPython.display import Image\n",
      "from datetime import datetime\n",
      "dn   = datetime.utcnow()\n",
      "date = dn.strftime('%y%m%d') "
     ],
     "language": "python",
     "metadata": {},
     "outputs": []
    },
    {
     "cell_type": "markdown",
     "metadata": {},
     "source": [
      "### Status lights"
     ]
    },
    {
     "cell_type": "code",
     "collapsed": false,
     "input": [
      "Image(filename='/Users/vonw/Sites/summit/hourly/' + date + '_statusLights.png')"
     ],
     "language": "python",
     "metadata": {},
     "outputs": []
    },
    {
     "cell_type": "markdown",
     "metadata": {},
     "source": [
      "### Interferometer"
     ]
    },
    {
     "cell_type": "code",
     "collapsed": false,
     "input": [
      "Image(filename='/Users/vonw/Sites/summit/hourly/' + date + '_interf.png')"
     ],
     "language": "python",
     "metadata": {},
     "outputs": []
    },
    {
     "cell_type": "markdown",
     "metadata": {},
     "source": [
      "### Detector"
     ]
    },
    {
     "cell_type": "code",
     "collapsed": false,
     "input": [
      "Image(filename='/Users/vonw/Sites/summit/hourly/' + date + '_detector.png')"
     ],
     "language": "python",
     "metadata": {},
     "outputs": []
    },
    {
     "cell_type": "markdown",
     "metadata": {},
     "source": [
      "### Radiance"
     ]
    },
    {
     "cell_type": "code",
     "collapsed": false,
     "input": [
      "Image(filename='/Users/vonw/Sites/summit/hourly/' + date + '_radiance.png')"
     ],
     "language": "python",
     "metadata": {},
     "outputs": []
    },
    {
     "cell_type": "markdown",
     "metadata": {},
     "source": [
      "### BT spectra"
     ]
    },
    {
     "cell_type": "code",
     "collapsed": false,
     "input": [
      "Image(filename='/Users/vonw/Sites/summit/hourly/' + date + '_BTspectra.png')"
     ],
     "language": "python",
     "metadata": {},
     "outputs": []
    },
    {
     "cell_type": "markdown",
     "metadata": {},
     "source": [
      "### BT Time Series"
     ]
    },
    {
     "cell_type": "code",
     "collapsed": false,
     "input": [
      "Image(filename='/Users/vonw/Sites/summit/hourly/' + date + '_windowBT.png')"
     ],
     "language": "python",
     "metadata": {},
     "outputs": []
    },
    {
     "cell_type": "markdown",
     "metadata": {},
     "source": [
      "### Instrument Noise"
     ]
    },
    {
     "cell_type": "code",
     "collapsed": false,
     "input": [
      "Image(filename='/Users/vonw/Sites/summit/hourly/' + date + '_nen.png')"
     ],
     "language": "python",
     "metadata": {},
     "outputs": []
    },
    {
     "cell_type": "markdown",
     "metadata": {},
     "source": [
      "# 2) Current Weather at Summit Station"
     ]
    },
    {
     "cell_type": "markdown",
     "metadata": {},
     "source": [
      "from IPython.display import HTML\n",
      "HTML('<iframe src=http://www.summitcamp.org/status/weather width=1000 height=700></iframe>')"
     ]
    },
    {
     "cell_type": "markdown",
     "metadata": {},
     "source": [
      "# 3) Most Recent GFS forecast of surface conditions at Greenland"
     ]
    },
    {
     "cell_type": "code",
     "collapsed": false,
     "input": [
      "from pylab import *\n",
      "from netCDF4 import Dataset \n",
      "from mpl_toolkits.basemap import Basemap\n",
      "import matplotlib.pyplot as plt\n",
      "import numpy as np\n",
      "from datetime import datetime, timedelta\n",
      "import sys\n",
      "\n",
      "# Determine nearest forecast time.\n",
      "dn     = datetime.utcnow() - timedelta(0.25)\n",
      "yymmdd = dn.strftime('%Y%m%d')\n",
      "ctime  = int(dn.strftime('%H%M'))\n",
      "ftimes = array([0, 600, 1200, 1800])\n",
      "hhmm   = str(ftimes[ max( find(ftimes < ctime) ) ]).zfill(4)\n",
      "\n",
      "print 'Date/Time: ', yymmdd, ' ', dn.strftime('%H%M').zfill(4), ' UTC'\n",
      "\n",
      "print('Opening connection to motherlode.ucar.edu...')\n",
      "fn  = 'http://motherlode.ucar.edu/thredds/dodsC/grib/NCEP/GFS/Global_0p5deg/files/GFS_Global_0p5deg_' + yymmdd + '_' + hhmm + '.grib2'\n",
      "try:\n",
      "\tgfs = Dataset(fn)\n",
      "except:\n",
      "\tprint('Data is NOT currently available from http://motherlode.ucar.edu/thredds/dodsC/model/NCEP/GFS/Global_0p5deg/GFS_Global_0p5deg_' + yymmdd + '_' + hhmm + '.grib2')\n",
      "\tsys.exit()\n",
      "\n",
      "\n",
      "# The \"gfs\" reference in python is a set of nested dictionaries.\n",
      "\n",
      "# Typing \"gfs\" at the python prompt will list the available variables.\n",
      "# However, it is more convenient to list the variables from the web:\n",
      "#   http://motherlode.ucar.edu/thredds/dodsC/model/NCEP/GFS/Global_0p5deg/\n",
      "\n",
      "# List the contents of a single variable like:\n",
      "#   gfs.Temperature_surface\n",
      "# This object is a dictionary with four variables: lat, lon, time, Temperature_surface\n",
      "\n",
      "# Date and time\n",
      "print('  Loading date and time...')\n",
      "time_offset = fn[-10:-6]\n",
      "date        = fn[-19:-11]\n",
      "time        = gfs.variables['time'][:]\n",
      "# Lat/lon\n",
      "print('  Loading latitude and longitude...')\n",
      "lat         = gfs.variables['lat'][:]\n",
      "lon         = gfs.variables['lon'][:]\n",
      "# Surface Temperature\n",
      "print('  Loading surface temperature...')\n",
      "Ts          = gfs.variables['Temperature_surface'][0,:] - 273.15\n",
      "# Pressure reduced to mean sea level\n",
      "print('  Loading surface pressure...')\n",
      "Pmsl         = gfs.variables['Pressure_reduced_to_MSL_msl'][0,:]/100.  # in mb\n",
      "#Ptrop       = gfs.variables['Pressure_tropopause'][0,:]/100.  # in mb\n",
      "#gph         = gfs.variables['Geopotential_height'][0,:]\n",
      "# Thickness of Geopotential Height between 1000 and 500 mb\n",
      "#print('Loading geopotential heights...')\n",
      "#gph_1000mb  = gfs.variables['Geopotential_height'][0,:][0]\n",
      "#gph_500mb   = gfs.variables['Geopotential_height'][0,:][12]\n",
      "#thickness_1000_500 = gph_500mb - gph_1000mb\n",
      "# Surface winds\n",
      "#print('  Loading surface wind components...')\n",
      "#u           =  gfs.variables['U-component_of_wind'][0,0,:,:]*1.94  # Convert from m s-1 to knots\n",
      "#v           =  gfs.variables['V-component_of_wind'][0,0,:,:]*1.94\n",
      "\n",
      "# Plot map\n",
      "print('  Creating map...')\n",
      "figure(figsize=(16,16))\n",
      "\n",
      "m   = Basemap(projection='npstere', lon_0=-105., lat_0=45., boundinglat=45., resolution='l')\n",
      "x,y = m(*np.meshgrid(lon,lat))\n",
      "\n",
      "# Pmsl or Geopotential thickness\n",
      "CS=m.contour(x,y,Pmsl,range(920,1040,5),colors='k')\n",
      "plt.clabel(CS, CS.levels,inline=1,fmt='%4.0f',fontsize=12)  # label every second level\n",
      "#CS=m.contour(lon,lat,thickness_1000_500,range(4000,6000,40),colors='k')\n",
      "#plt.clabel(CS, CS.levels,inline=1,fmt='%4.0f',fontsize=12)  # label every second level\n",
      "\n",
      "# Surface temperature\n",
      "m.contourf(x,y,Ts,range(-80,31,1))\n",
      "CB=plt.colorbar(ticks=range(-80,31,10), shrink=0.8)\n",
      "\n",
      "# Surface wind barbs\n",
      "#m.barbs(x[0::5,0::10],y[0::5,0::10],u[0::5,0::10],v[0::5,0::10],length=5)\n",
      "\n",
      "# draw coastline, parallels and meridians.\n",
      "m.drawcoastlines()\n",
      "m.drawparallels(range(50,90,10))\n",
      "m.drawmeridians(range(-180,180,10))\n",
      "\n",
      "# Plot the location of Summit Station.\n",
      "sx, sy = m(-38.,72.)\n",
      "m.scatter(sx,sy,s=40,c=[1,1,1],marker='o')\n",
      "\n",
      "plt.text(3500000,-500000,'Surface T (C) and P (mb)')\n",
      "plt.title('GFS model forecast for ' + date + ' at ' + time_offset + ' UTC')\n",
      "\n",
      "plt.show()"
     ],
     "language": "python",
     "metadata": {},
     "outputs": []
    },
    {
     "cell_type": "markdown",
     "metadata": {},
     "source": [
      "# 4) Historical PAERI plots"
     ]
    },
    {
     "cell_type": "code",
     "collapsed": false,
     "input": [
      "from IPython.display import HTML\n",
      "HTML('<iframe src=http://qanniq.cos.uidaho.edu/~vonw/summit/paeri.html width=1000 height=600></iframe>')"
     ],
     "language": "python",
     "metadata": {},
     "outputs": []
    },
    {
     "cell_type": "markdown",
     "metadata": {},
     "source": [
      "# 5) [NOAA ICECAPS Data Browser](http://www.esrl.noaa.gov/psd/arctic/observatories/summit/browser/)"
     ]
    },
    {
     "cell_type": "markdown",
     "metadata": {},
     "source": [
      "# 6) Greenland Melt Today"
     ]
    },
    {
     "cell_type": "code",
     "collapsed": false,
     "input": [
      "from IPython.display import HTML\n",
      "HTML('<iframe src=http://nsidc.org/greenland-today/ width=1200 height=600></iframe>')"
     ],
     "language": "python",
     "metadata": {},
     "outputs": []
    },
    {
     "cell_type": "markdown",
     "metadata": {},
     "source": [
      "# 7) NSIDC Arctic Sea Ice News"
     ]
    },
    {
     "cell_type": "code",
     "collapsed": false,
     "input": [
      "from IPython.display import HTML\n",
      "HTML('<iframe src=http://nsidc.org/arcticseaicenews/ width=1200 height=600></iframe>')"
     ],
     "language": "python",
     "metadata": {},
     "outputs": []
    }
   ],
   "metadata": {}
  }
 ]
}